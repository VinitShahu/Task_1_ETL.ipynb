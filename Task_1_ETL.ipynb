{
  "nbformat": 4,
  "nbformat_minor": 0,
  "metadata": {
    "colab": {
      "name": "Task_1_ETL.ipynb",
      "provenance": [],
      "collapsed_sections": []
    },
    "kernelspec": {
      "name": "python3",
      "display_name": "Python 3"
    },
    "language_info": {
      "name": "python"
    }
  },
  "cells": [
    {
      "cell_type": "markdown",
      "metadata": {
        "id": "e10LTuQJBMji"
      },
      "source": [
        "##Task 1\n",
        "\n",
        "\n",
        "---\n",
        "\n",
        "\n",
        "####Authors:\n",
        "#####Arijit Majumdar\n",
        "#####Vinit Shahu\n",
        "#####Karan Lunkad"
      ]
    },
    {
      "cell_type": "markdown",
      "metadata": {
        "id": "WtegTP0GMtk5"
      },
      "source": [
        "#Objectives:\n",
        "####Sales Managment  \n",
        "1.   To Find Sales-trend -> \n",
        "\n",
        "\n",
        "> *   month wise\n",
        "*   year wise\n",
        "*   yearly month wise\n",
        "\n",
        "\n",
        "\n",
        "2.   Find key metrics and factors and show the meaningful\n",
        "relationships between attributes."
      ]
    },
    {
      "cell_type": "markdown",
      "metadata": {
        "id": "supv2JqvKxWJ"
      },
      "source": [
        "##MetaData Collection\n",
        "####Amazon Food Data Set\n",
        "\n",
        "---\n",
        "\n",
        "\n",
        " "
      ]
    },
    {
      "cell_type": "markdown",
      "metadata": {
        "id": "h4S3QtVSi47e"
      },
      "source": [
        "\n",
        "\n",
        "1.   invoice date same as datekey:Represents Date of Transaction\n",
        "2.   custkey:Unique CostumerId\n",
        "3.   Discount Amount \n",
        "4.   Invoice Number\n",
        "5.   Item Class (po1,p01)\n",
        "6.   Item Number\n",
        "7.   Item\n",
        "8.   Line Number:The number of products in a product line refer to  its product line depth\n",
        "9.   List Price: MRP \n",
        "10.  Order Number\n",
        "11.  Promised Delivery Date\n",
        "12.  Sales Amount: Selling price of total items\n",
        "13.  Sales Amount Based on List Price:Expected SP of total items based on list price\n",
        "14.  Sales Cost Amount\n",
        "15.  Sales Margin Amount: profit/loss\n",
        "16.  Sales Price: selling price of item\n",
        "17. Sales Quantity: Qty of products\n",
        "18. Sales Rep: No. of Reps\n",
        "19. U/M: Unit of Measure(Each = EA, pair = PR, SE = Some SI Unit of KG/Gallon)\n",
        "\n"
      ]
    },
    {
      "cell_type": "code",
      "metadata": {
        "id": "E_u7KEegjNK5"
      },
      "source": [
        "#importing required libraries for this project\n",
        "import numpy as np\n",
        "import pandas as pd\n",
        "import matplotlib.pyplot as plt\n"
      ],
      "execution_count": null,
      "outputs": []
    },
    {
      "cell_type": "code",
      "metadata": {
        "id": "bCpMGLNwZ8fk",
        "colab": {
          "base_uri": "https://localhost:8080/"
        },
        "outputId": "6a7bbee5-98de-45c6-a705-b06549c30198"
      },
      "source": [
        "from google.colab import drive\n",
        "drive.mount('/content/drive')"
      ],
      "execution_count": null,
      "outputs": [
        {
          "output_type": "stream",
          "name": "stdout",
          "text": [
            "Mounted at /content/drive\n"
          ]
        }
      ]
    },
    {
      "cell_type": "code",
      "metadata": {
        "colab": {
          "base_uri": "https://localhost:8080/"
        },
        "id": "E9DGpD6Ij9B2",
        "outputId": "01dde94c-030b-48c3-d7e2-3be173c0e5b2"
      },
      "source": [
        "ama_dataset = pd.read_csv('/content/drive/MyDrive/Internship/SALESDATA.csv')\n",
        "ama_dataset.shape"
      ],
      "execution_count": null,
      "outputs": [
        {
          "output_type": "execute_result",
          "data": {
            "text/plain": [
              "(65282, 20)"
            ]
          },
          "metadata": {},
          "execution_count": 3
        }
      ]
    },
    {
      "cell_type": "markdown",
      "metadata": {
        "id": "_SGmKACILGeZ"
      },
      "source": [
        "##Studying the data"
      ]
    },
    {
      "cell_type": "code",
      "metadata": {
        "id": "cg-xGg49kQv3",
        "colab": {
          "base_uri": "https://localhost:8080/",
          "height": 513
        },
        "outputId": "445bf5ac-c7b6-4a23-f8b2-a8683f969cc2"
      },
      "source": [
        "ama_dataset.head()"
      ],
      "execution_count": null,
      "outputs": [
        {
          "output_type": "execute_result",
          "data": {
            "text/html": [
              "<div>\n",
              "<style scoped>\n",
              "    .dataframe tbody tr th:only-of-type {\n",
              "        vertical-align: middle;\n",
              "    }\n",
              "\n",
              "    .dataframe tbody tr th {\n",
              "        vertical-align: top;\n",
              "    }\n",
              "\n",
              "    .dataframe thead th {\n",
              "        text-align: right;\n",
              "    }\n",
              "</style>\n",
              "<table border=\"1\" class=\"dataframe\">\n",
              "  <thead>\n",
              "    <tr style=\"text-align: right;\">\n",
              "      <th></th>\n",
              "      <th>CustKey</th>\n",
              "      <th>DateKey</th>\n",
              "      <th>Discount Amount</th>\n",
              "      <th>Invoice Date</th>\n",
              "      <th>Invoice Number</th>\n",
              "      <th>Item Class</th>\n",
              "      <th>Item Number</th>\n",
              "      <th>Item</th>\n",
              "      <th>Line Number</th>\n",
              "      <th>List Price</th>\n",
              "      <th>Order Number</th>\n",
              "      <th>Promised Delivery Date</th>\n",
              "      <th>Sales Amount</th>\n",
              "      <th>Sales Amount Based on List Price</th>\n",
              "      <th>Sales Cost Amount</th>\n",
              "      <th>Sales Margin Amount</th>\n",
              "      <th>Sales Price</th>\n",
              "      <th>Sales Quantity</th>\n",
              "      <th>Sales Rep</th>\n",
              "      <th>U/M</th>\n",
              "    </tr>\n",
              "  </thead>\n",
              "  <tbody>\n",
              "    <tr>\n",
              "      <th>0</th>\n",
              "      <td>10000481</td>\n",
              "      <td>30-04-2017</td>\n",
              "      <td>-237.91</td>\n",
              "      <td>30-04-2017</td>\n",
              "      <td>100012</td>\n",
              "      <td>NaN</td>\n",
              "      <td>NaN</td>\n",
              "      <td>Urban Large Eggs</td>\n",
              "      <td>2000</td>\n",
              "      <td>0.00</td>\n",
              "      <td>200015</td>\n",
              "      <td>30-04-2017</td>\n",
              "      <td>237.91</td>\n",
              "      <td>0.00</td>\n",
              "      <td>0.0</td>\n",
              "      <td>237.91</td>\n",
              "      <td>237.910000</td>\n",
              "      <td>1</td>\n",
              "      <td>184</td>\n",
              "      <td>EA</td>\n",
              "    </tr>\n",
              "    <tr>\n",
              "      <th>1</th>\n",
              "      <td>10002220</td>\n",
              "      <td>14-07-2017</td>\n",
              "      <td>368.79</td>\n",
              "      <td>14-07-2017</td>\n",
              "      <td>100233</td>\n",
              "      <td>P01</td>\n",
              "      <td>20910</td>\n",
              "      <td>Moms Sliced Turkey</td>\n",
              "      <td>1000</td>\n",
              "      <td>824.96</td>\n",
              "      <td>200245</td>\n",
              "      <td>14-07-2017</td>\n",
              "      <td>456.17</td>\n",
              "      <td>824.96</td>\n",
              "      <td>0.0</td>\n",
              "      <td>456.17</td>\n",
              "      <td>456.170000</td>\n",
              "      <td>1</td>\n",
              "      <td>127</td>\n",
              "      <td>EA</td>\n",
              "    </tr>\n",
              "    <tr>\n",
              "      <th>2</th>\n",
              "      <td>10002220</td>\n",
              "      <td>17-10-2017</td>\n",
              "      <td>109.73</td>\n",
              "      <td>17-10-2017</td>\n",
              "      <td>116165</td>\n",
              "      <td>P01</td>\n",
              "      <td>38076</td>\n",
              "      <td>Cutting Edge Foot-Long Hot Dogs</td>\n",
              "      <td>1000</td>\n",
              "      <td>548.66</td>\n",
              "      <td>213157</td>\n",
              "      <td>16-10-2017</td>\n",
              "      <td>438.93</td>\n",
              "      <td>548.66</td>\n",
              "      <td>0.0</td>\n",
              "      <td>438.93</td>\n",
              "      <td>438.930000</td>\n",
              "      <td>1</td>\n",
              "      <td>127</td>\n",
              "      <td>EA</td>\n",
              "    </tr>\n",
              "    <tr>\n",
              "      <th>3</th>\n",
              "      <td>10002489</td>\n",
              "      <td>03-06-2017</td>\n",
              "      <td>-211.75</td>\n",
              "      <td>03-06-2017</td>\n",
              "      <td>100096</td>\n",
              "      <td>NaN</td>\n",
              "      <td>NaN</td>\n",
              "      <td>Kiwi Lox</td>\n",
              "      <td>1000</td>\n",
              "      <td>0.00</td>\n",
              "      <td>200107</td>\n",
              "      <td>03-06-2017</td>\n",
              "      <td>211.75</td>\n",
              "      <td>0.00</td>\n",
              "      <td>0.0</td>\n",
              "      <td>211.75</td>\n",
              "      <td>211.750000</td>\n",
              "      <td>1</td>\n",
              "      <td>160</td>\n",
              "      <td>EA</td>\n",
              "    </tr>\n",
              "    <tr>\n",
              "      <th>4</th>\n",
              "      <td>10004516</td>\n",
              "      <td>27-05-2017</td>\n",
              "      <td>96627.94</td>\n",
              "      <td>27-05-2017</td>\n",
              "      <td>103341</td>\n",
              "      <td>P01</td>\n",
              "      <td>60776</td>\n",
              "      <td>High Top Sweet Onion</td>\n",
              "      <td>1000</td>\n",
              "      <td>408.52</td>\n",
              "      <td>203785</td>\n",
              "      <td>28-05-2017</td>\n",
              "      <td>89248.66</td>\n",
              "      <td>185876.60</td>\n",
              "      <td>0.0</td>\n",
              "      <td>89248.66</td>\n",
              "      <td>196.150901</td>\n",
              "      <td>455</td>\n",
              "      <td>124</td>\n",
              "      <td>SE</td>\n",
              "    </tr>\n",
              "  </tbody>\n",
              "</table>\n",
              "</div>"
            ],
            "text/plain": [
              "    CustKey     DateKey  Discount Amount  ... Sales Quantity  Sales Rep U/M\n",
              "0  10000481  30-04-2017          -237.91  ...              1        184  EA\n",
              "1  10002220  14-07-2017           368.79  ...              1        127  EA\n",
              "2  10002220  17-10-2017           109.73  ...              1        127  EA\n",
              "3  10002489  03-06-2017          -211.75  ...              1        160  EA\n",
              "4  10004516  27-05-2017         96627.94  ...            455        124  SE\n",
              "\n",
              "[5 rows x 20 columns]"
            ]
          },
          "metadata": {},
          "execution_count": 4
        }
      ]
    },
    {
      "cell_type": "code",
      "metadata": {
        "id": "8-msiLlNJWyf",
        "colab": {
          "base_uri": "https://localhost:8080/",
          "height": 351
        },
        "outputId": "d55ef0ff-8d1c-4b75-afb8-871315eb9844"
      },
      "source": [
        "ama_dataset.describe()"
      ],
      "execution_count": null,
      "outputs": [
        {
          "output_type": "execute_result",
          "data": {
            "text/html": [
              "<div>\n",
              "<style scoped>\n",
              "    .dataframe tbody tr th:only-of-type {\n",
              "        vertical-align: middle;\n",
              "    }\n",
              "\n",
              "    .dataframe tbody tr th {\n",
              "        vertical-align: top;\n",
              "    }\n",
              "\n",
              "    .dataframe thead th {\n",
              "        text-align: right;\n",
              "    }\n",
              "</style>\n",
              "<table border=\"1\" class=\"dataframe\">\n",
              "  <thead>\n",
              "    <tr style=\"text-align: right;\">\n",
              "      <th></th>\n",
              "      <th>CustKey</th>\n",
              "      <th>Discount Amount</th>\n",
              "      <th>Invoice Number</th>\n",
              "      <th>Line Number</th>\n",
              "      <th>List Price</th>\n",
              "      <th>Order Number</th>\n",
              "      <th>Sales Amount</th>\n",
              "      <th>Sales Amount Based on List Price</th>\n",
              "      <th>Sales Cost Amount</th>\n",
              "      <th>Sales Margin Amount</th>\n",
              "      <th>Sales Price</th>\n",
              "      <th>Sales Quantity</th>\n",
              "      <th>Sales Rep</th>\n",
              "    </tr>\n",
              "  </thead>\n",
              "  <tbody>\n",
              "    <tr>\n",
              "      <th>count</th>\n",
              "      <td>6.528200e+04</td>\n",
              "      <td>65280.000000</td>\n",
              "      <td>65282.000000</td>\n",
              "      <td>65282.000000</td>\n",
              "      <td>65282.000000</td>\n",
              "      <td>65282.000000</td>\n",
              "      <td>65282.000000</td>\n",
              "      <td>65282.000000</td>\n",
              "      <td>65282.000000</td>\n",
              "      <td>65282.000000</td>\n",
              "      <td>65281.000000</td>\n",
              "      <td>65282.000000</td>\n",
              "      <td>65282.000000</td>\n",
              "    </tr>\n",
              "    <tr>\n",
              "      <th>mean</th>\n",
              "      <td>1.001770e+07</td>\n",
              "      <td>1855.574835</td>\n",
              "      <td>216223.662020</td>\n",
              "      <td>23713.849790</td>\n",
              "      <td>514.693380</td>\n",
              "      <td>180583.064352</td>\n",
              "      <td>2852.038373</td>\n",
              "      <td>4707.473613</td>\n",
              "      <td>1660.979228</td>\n",
              "      <td>1191.059145</td>\n",
              "      <td>283.615913</td>\n",
              "      <td>45.084311</td>\n",
              "      <td>137.422398</td>\n",
              "    </tr>\n",
              "    <tr>\n",
              "      <th>std</th>\n",
              "      <td>7.176148e+03</td>\n",
              "      <td>9037.140888</td>\n",
              "      <td>94992.281866</td>\n",
              "      <td>32664.024053</td>\n",
              "      <td>449.189182</td>\n",
              "      <td>67593.871116</td>\n",
              "      <td>15164.342107</td>\n",
              "      <td>20696.443785</td>\n",
              "      <td>9556.485250</td>\n",
              "      <td>5860.787502</td>\n",
              "      <td>252.876719</td>\n",
              "      <td>429.661793</td>\n",
              "      <td>26.643936</td>\n",
              "    </tr>\n",
              "    <tr>\n",
              "      <th>min</th>\n",
              "      <td>1.000045e+07</td>\n",
              "      <td>-255820.800000</td>\n",
              "      <td>100012.000000</td>\n",
              "      <td>1000.000000</td>\n",
              "      <td>0.000000</td>\n",
              "      <td>100838.000000</td>\n",
              "      <td>200.010000</td>\n",
              "      <td>0.000000</td>\n",
              "      <td>0.000000</td>\n",
              "      <td>-3932.930000</td>\n",
              "      <td>-5000.000000</td>\n",
              "      <td>-1.000000</td>\n",
              "      <td>103.000000</td>\n",
              "    </tr>\n",
              "    <tr>\n",
              "      <th>25%</th>\n",
              "      <td>1.001272e+07</td>\n",
              "      <td>246.037500</td>\n",
              "      <td>117931.000000</td>\n",
              "      <td>3000.000000</td>\n",
              "      <td>181.560000</td>\n",
              "      <td>115321.000000</td>\n",
              "      <td>308.387500</td>\n",
              "      <td>561.040000</td>\n",
              "      <td>167.790000</td>\n",
              "      <td>129.950000</td>\n",
              "      <td>100.070000</td>\n",
              "      <td>2.000000</td>\n",
              "      <td>113.000000</td>\n",
              "    </tr>\n",
              "    <tr>\n",
              "      <th>50%</th>\n",
              "      <td>1.001966e+07</td>\n",
              "      <td>441.760000</td>\n",
              "      <td>222869.500000</td>\n",
              "      <td>12000.000000</td>\n",
              "      <td>325.190000</td>\n",
              "      <td>203702.000000</td>\n",
              "      <td>553.940000</td>\n",
              "      <td>998.160000</td>\n",
              "      <td>304.500000</td>\n",
              "      <td>246.490000</td>\n",
              "      <td>183.757500</td>\n",
              "      <td>3.000000</td>\n",
              "      <td>134.000000</td>\n",
              "    </tr>\n",
              "    <tr>\n",
              "      <th>75%</th>\n",
              "      <td>1.002351e+07</td>\n",
              "      <td>999.760000</td>\n",
              "      <td>314318.750000</td>\n",
              "      <td>32000.000000</td>\n",
              "      <td>803.860000</td>\n",
              "      <td>218576.000000</td>\n",
              "      <td>1280.042500</td>\n",
              "      <td>2315.040000</td>\n",
              "      <td>687.320000</td>\n",
              "      <td>579.530000</td>\n",
              "      <td>448.220000</td>\n",
              "      <td>8.000000</td>\n",
              "      <td>160.000000</td>\n",
              "    </tr>\n",
              "    <tr>\n",
              "      <th>max</th>\n",
              "      <td>1.002758e+07</td>\n",
              "      <td>343532.660000</td>\n",
              "      <td>332842.000000</td>\n",
              "      <td>344000.000000</td>\n",
              "      <td>2760.700000</td>\n",
              "      <td>321532.000000</td>\n",
              "      <td>555376.000000</td>\n",
              "      <td>632610.160000</td>\n",
              "      <td>366576.000000</td>\n",
              "      <td>188800.000000</td>\n",
              "      <td>6035.000000</td>\n",
              "      <td>16000.000000</td>\n",
              "      <td>185.000000</td>\n",
              "    </tr>\n",
              "  </tbody>\n",
              "</table>\n",
              "</div>"
            ],
            "text/plain": [
              "            CustKey  Discount Amount  ...  Sales Quantity     Sales Rep\n",
              "count  6.528200e+04     65280.000000  ...    65282.000000  65282.000000\n",
              "mean   1.001770e+07      1855.574835  ...       45.084311    137.422398\n",
              "std    7.176148e+03      9037.140888  ...      429.661793     26.643936\n",
              "min    1.000045e+07   -255820.800000  ...       -1.000000    103.000000\n",
              "25%    1.001272e+07       246.037500  ...        2.000000    113.000000\n",
              "50%    1.001966e+07       441.760000  ...        3.000000    134.000000\n",
              "75%    1.002351e+07       999.760000  ...        8.000000    160.000000\n",
              "max    1.002758e+07    343532.660000  ...    16000.000000    185.000000\n",
              "\n",
              "[8 rows x 13 columns]"
            ]
          },
          "metadata": {},
          "execution_count": 5
        }
      ]
    },
    {
      "cell_type": "code",
      "metadata": {
        "id": "7sCjiJVeJhnC",
        "colab": {
          "base_uri": "https://localhost:8080/"
        },
        "outputId": "7b6b98bc-db24-4224-99aa-561bfd5a449d"
      },
      "source": [
        "#concise summary of the dataset \n",
        "ama_dataset.info()"
      ],
      "execution_count": null,
      "outputs": [
        {
          "output_type": "stream",
          "name": "stdout",
          "text": [
            "<class 'pandas.core.frame.DataFrame'>\n",
            "RangeIndex: 65282 entries, 0 to 65281\n",
            "Data columns (total 20 columns):\n",
            " #   Column                            Non-Null Count  Dtype  \n",
            "---  ------                            --------------  -----  \n",
            " 0   CustKey                           65282 non-null  int64  \n",
            " 1   DateKey                           65282 non-null  object \n",
            " 2   Discount Amount                   65280 non-null  float64\n",
            " 3   Invoice Date                      65282 non-null  object \n",
            " 4   Invoice Number                    65282 non-null  int64  \n",
            " 5   Item Class                        56993 non-null  object \n",
            " 6   Item Number                       65241 non-null  object \n",
            " 7   Item                              65282 non-null  object \n",
            " 8   Line Number                       65282 non-null  int64  \n",
            " 9   List Price                        65282 non-null  float64\n",
            " 10  Order Number                      65282 non-null  int64  \n",
            " 11  Promised Delivery Date            65282 non-null  object \n",
            " 12  Sales Amount                      65282 non-null  float64\n",
            " 13  Sales Amount Based on List Price  65282 non-null  float64\n",
            " 14  Sales Cost Amount                 65282 non-null  float64\n",
            " 15  Sales Margin Amount               65282 non-null  float64\n",
            " 16  Sales Price                       65281 non-null  float64\n",
            " 17  Sales Quantity                    65282 non-null  int64  \n",
            " 18  Sales Rep                         65282 non-null  int64  \n",
            " 19  U/M                               65282 non-null  object \n",
            "dtypes: float64(7), int64(6), object(7)\n",
            "memory usage: 10.0+ MB\n"
          ]
        }
      ]
    },
    {
      "cell_type": "code",
      "metadata": {
        "id": "PwfR4DhFKsUt",
        "colab": {
          "base_uri": "https://localhost:8080/"
        },
        "outputId": "ada2225d-60c4-4443-8283-8ec0df9e11fd"
      },
      "source": [
        "#check for missing values\n",
        "ama_dataset.isna().sum()"
      ],
      "execution_count": null,
      "outputs": [
        {
          "output_type": "execute_result",
          "data": {
            "text/plain": [
              "CustKey                                0\n",
              "DateKey                                0\n",
              "Discount Amount                        2\n",
              "Invoice Date                           0\n",
              "Invoice Number                         0\n",
              "Item Class                          8289\n",
              "Item Number                           41\n",
              "Item                                   0\n",
              "Line Number                            0\n",
              "List Price                             0\n",
              "Order Number                           0\n",
              "Promised Delivery Date                 0\n",
              "Sales Amount                           0\n",
              "Sales Amount Based on List Price       0\n",
              "Sales Cost Amount                      0\n",
              "Sales Margin Amount                    0\n",
              "Sales Price                            1\n",
              "Sales Quantity                         0\n",
              "Sales Rep                              0\n",
              "U/M                                    0\n",
              "dtype: int64"
            ]
          },
          "metadata": {},
          "execution_count": 7
        }
      ]
    },
    {
      "cell_type": "code",
      "metadata": {
        "id": "SerxXqZ_RRBz",
        "colab": {
          "base_uri": "https://localhost:8080/"
        },
        "outputId": "2861f0a6-e5e0-479d-f011-6de31c62f2ed"
      },
      "source": [
        "#data cleaning\n",
        "ama_dataset.dropna(inplace=True)\n",
        "ama_dataset.isna().sum()"
      ],
      "execution_count": null,
      "outputs": [
        {
          "output_type": "execute_result",
          "data": {
            "text/plain": [
              "CustKey                             0\n",
              "DateKey                             0\n",
              "Discount Amount                     0\n",
              "Invoice Date                        0\n",
              "Invoice Number                      0\n",
              "Item Class                          0\n",
              "Item Number                         0\n",
              "Item                                0\n",
              "Line Number                         0\n",
              "List Price                          0\n",
              "Order Number                        0\n",
              "Promised Delivery Date              0\n",
              "Sales Amount                        0\n",
              "Sales Amount Based on List Price    0\n",
              "Sales Cost Amount                   0\n",
              "Sales Margin Amount                 0\n",
              "Sales Price                         0\n",
              "Sales Quantity                      0\n",
              "Sales Rep                           0\n",
              "U/M                                 0\n",
              "dtype: int64"
            ]
          },
          "metadata": {},
          "execution_count": 8
        }
      ]
    },
    {
      "cell_type": "code",
      "metadata": {
        "id": "GMFxroydOvni",
        "colab": {
          "base_uri": "https://localhost:8080/"
        },
        "outputId": "5487876f-75a7-4d84-a168-8e5c1b89efd8"
      },
      "source": [
        "(ama_dataset['DateKey'] == ama_dataset['Invoice Date']).unique()"
      ],
      "execution_count": null,
      "outputs": [
        {
          "output_type": "execute_result",
          "data": {
            "text/plain": [
              "array([ True])"
            ]
          },
          "metadata": {},
          "execution_count": 9
        }
      ]
    },
    {
      "cell_type": "code",
      "metadata": {
        "id": "BT8NwFj8j8kF"
      },
      "source": [
        "ama_dataset['Invoice Date'] = pd.to_datetime(ama_dataset['Invoice Date'])\n",
        "ama_dataset['DateKey'] = pd.to_datetime(ama_dataset['DateKey'])"
      ],
      "execution_count": null,
      "outputs": []
    },
    {
      "cell_type": "markdown",
      "metadata": {
        "id": "0mHXai7nEiKl"
      },
      "source": [
        "##Exploratory Data Analysis"
      ]
    },
    {
      "cell_type": "code",
      "metadata": {
        "colab": {
          "base_uri": "https://localhost:8080/"
        },
        "id": "OC2LHkWJHbHM",
        "outputId": "ba37a82b-43c4-49cf-fbc9-c18e4eed4f53"
      },
      "source": [
        "#what is the overall sale trend\n",
        "ama_dataset['DateKey'].min()"
      ],
      "execution_count": null,
      "outputs": [
        {
          "output_type": "execute_result",
          "data": {
            "text/plain": [
              "Timestamp('2017-01-01 00:00:00')"
            ]
          },
          "metadata": {},
          "execution_count": 11
        }
      ]
    },
    {
      "cell_type": "code",
      "metadata": {
        "colab": {
          "base_uri": "https://localhost:8080/"
        },
        "id": "3J4xus_oHpZi",
        "outputId": "d4f8ba81-9f17-4490-832d-04f59420a18d"
      },
      "source": [
        "ama_dataset['DateKey'].max()"
      ],
      "execution_count": null,
      "outputs": [
        {
          "output_type": "execute_result",
          "data": {
            "text/plain": [
              "Timestamp('2019-12-31 00:00:00')"
            ]
          },
          "metadata": {},
          "execution_count": 12
        }
      ]
    },
    {
      "cell_type": "code",
      "metadata": {
        "id": "Jj9E5ut-HxL4"
      },
      "source": [
        "#Getting month year from the dataset\n",
        "ama_dataset['month_year'] = ama_dataset['DateKey'].apply(lambda x: x.strftime('%Y-%m'))\n",
        "ama_dataset['year'] = ama_dataset['DateKey'].apply(lambda x: x.strftime('%Y'))\n",
        "ama_dataset['month'] = ama_dataset['DateKey'].apply(lambda x: x.strftime('%m'))"
      ],
      "execution_count": null,
      "outputs": []
    },
    {
      "cell_type": "code",
      "metadata": {
        "id": "gjtwnKDLJNIX"
      },
      "source": [
        "#Grouping Month Year\n",
        "ama_df_trend_myr = ama_dataset.groupby('month_year').sum()['Sales Amount'].reset_index()\n",
        "#Grouping by Year\n",
        "ama_df_trend_yr = ama_dataset.groupby('year').sum()['Sales Amount'].reset_index()\n",
        "#Grouping by month\n",
        "ama_df_trend_m = ama_dataset.groupby('month').sum()['Sales Amount'].reset_index()"
      ],
      "execution_count": null,
      "outputs": []
    },
    {
      "cell_type": "markdown",
      "metadata": {
        "id": "iImJyjWhX9xU"
      },
      "source": [
        "###Objective 1.Plotting Sales Trends"
      ]
    },
    {
      "cell_type": "code",
      "metadata": {
        "colab": {
          "base_uri": "https://localhost:8080/",
          "height": 363
        },
        "id": "Z8hJUVq-J4_O",
        "outputId": "96a1fd73-d803-4eb9-9bc4-bb68972a01c7"
      },
      "source": [
        "plt.figure(figsize=(25,6))\n",
        "plt.title('Yearly Month-Wise Sales Trend')\n",
        "plt.bar(ama_df_trend_myr['month_year'], ama_df_trend_myr['Sales Amount'])\n",
        "plt.xticks(rotation= 'vertical',size=8)\n",
        "plt.show()"
      ],
      "execution_count": null,
      "outputs": [
        {
          "output_type": "display_data",
          "data": {
            "image/png": "[encoded data removed]",
            "text/plain": [
              "<Figure size 1800x432 with 1 Axes>"
            ]
          },
          "metadata": {
            "needs_background": "light"
          }
        }
      ]
    },
    {
      "cell_type": "code",
      "metadata": {
        "colab": {
          "base_uri": "https://localhost:8080/",
          "height": 400
        },
        "id": "4BUpLnFtU-Ac",
        "outputId": "59e8d6f4-9dc0-4a93-9829-dbd06545741f"
      },
      "source": [
        "plt.figure(figsize=(15,6))\n",
        "plt.title('Yearly Sales Trend')\n",
        "plt.bar(ama_df_trend_yr['year'], ama_df_trend_yr['Sales Amount'])\n",
        "plt.xticks(rotation= 'vertical',size=8)\n",
        "plt.show()"
      ],
      "execution_count": null,
      "outputs": [
        {
          "output_type": "display_data",
          "data": {
            "image/png": "[encoded data removed]",
            "text/plain": [
              "<Figure size 1080x432 with 1 Axes>"
            ]
          },
          "metadata": {
            "needs_background": "light"
          }
        }
      ]
    },
    {
      "cell_type": "code",
      "metadata": {
        "colab": {
          "base_uri": "https://localhost:8080/",
          "height": 390
        },
        "id": "ixBrqMXAXBwr",
        "outputId": "90543253-0afb-4134-e707-8781fbe4f8fc"
      },
      "source": [
        "plt.figure(figsize=(15,6))\n",
        "plt.title('Monthly Sales Trend')\n",
        "plt.bar(ama_df_trend_m['month'], ama_df_trend_m['Sales Amount'])\n",
        "plt.xticks(rotation= 'vertical',size=8)\n",
        "plt.show()"
      ],
      "execution_count": null,
      "outputs": [
        {
          "output_type": "display_data",
          "data": {
            "image/png": "[encoded data removed]",
            "text/plain": [
              "<Figure size 1080x432 with 1 Axes>"
            ]
          },
          "metadata": {
            "needs_background": "light"
          }
        }
      ]
    },
    {
      "cell_type": "markdown",
      "metadata": {
        "id": "bAv5VxQtt5cr"
      },
      "source": [
        "###1.Observations on Sales trends:-\n",
        "\n",
        "*   On study of Yearly month wise sales trend we get to know in year 2018 from month April to december 2018 the sale were very low.\n",
        "*   On study of Yearly sales trend we get to know that sales were very low in 2018.\n",
        "*    On study of monthly sales trend we get to know that the sales are low in the months of April & July. \n",
        "\n",
        "\n",
        "\n"
      ]
    },
    {
      "cell_type": "markdown",
      "metadata": {
        "id": "QHHeUwwrYMkY"
      },
      "source": [
        "###Objective 2.Finding key metrics,factors and meaningful relationships between attributes."
      ]
    },
    {
      "cell_type": "markdown",
      "metadata": {
        "id": "Dt3_nfNtM-VD"
      },
      "source": [
        "####Which are the top 10 Products in sales?"
      ]
    },
    {
      "cell_type": "code",
      "metadata": {
        "colab": {
          "base_uri": "https://localhost:8080/",
          "height": 388
        },
        "id": "uBfTdFxmNG-Q",
        "outputId": "ec6c7d5f-518f-4363-a88c-940761185e0c"
      },
      "source": [
        "#Grouping Item Column\n",
        "Item_sales = pd.DataFrame(ama_dataset.groupby('Item').sum()['Sales Amount'])\n",
        "#Sorting Item_sales Column\n",
        "Item_sales = Item_sales.sort_values('Sales Amount',ascending=False)\n",
        "\n",
        "#Top 10 Items By sales\n",
        "Item_sales[:10]"
      ],
      "execution_count": null,
      "outputs": [
        {
          "output_type": "execute_result",
          "data": {
            "text/html": [
              "<div>\n",
              "<style scoped>\n",
              "    .dataframe tbody tr th:only-of-type {\n",
              "        vertical-align: middle;\n",
              "    }\n",
              "\n",
              "    .dataframe tbody tr th {\n",
              "        vertical-align: top;\n",
              "    }\n",
              "\n",
              "    .dataframe thead th {\n",
              "        text-align: right;\n",
              "    }\n",
              "</style>\n",
              "<table border=\"1\" class=\"dataframe\">\n",
              "  <thead>\n",
              "    <tr style=\"text-align: right;\">\n",
              "      <th></th>\n",
              "      <th>Sales Amount</th>\n",
              "    </tr>\n",
              "    <tr>\n",
              "      <th>Item</th>\n",
              "      <th></th>\n",
              "    </tr>\n",
              "  </thead>\n",
              "  <tbody>\n",
              "    <tr>\n",
              "      <th>Ebony Squash</th>\n",
              "      <td>5377848.64</td>\n",
              "    </tr>\n",
              "    <tr>\n",
              "      <th>Big Time Frozen Cheese Pizza</th>\n",
              "      <td>5127171.17</td>\n",
              "    </tr>\n",
              "    <tr>\n",
              "      <th>Discover Manicotti</th>\n",
              "      <td>4901139.48</td>\n",
              "    </tr>\n",
              "    <tr>\n",
              "      <th>Better Fancy Canned Sardines</th>\n",
              "      <td>4526698.89</td>\n",
              "    </tr>\n",
              "    <tr>\n",
              "      <th>Moms Sliced Turkey</th>\n",
              "      <td>3386948.16</td>\n",
              "    </tr>\n",
              "    <tr>\n",
              "      <th>Imagine Popsicles</th>\n",
              "      <td>3347066.54</td>\n",
              "    </tr>\n",
              "    <tr>\n",
              "      <th>Cutting Edge Foot-Long Hot Dogs</th>\n",
              "      <td>3340837.52</td>\n",
              "    </tr>\n",
              "    <tr>\n",
              "      <th>Ebony Prepared Salad</th>\n",
              "      <td>2793741.24</td>\n",
              "    </tr>\n",
              "    <tr>\n",
              "      <th>Big Time Frozen Peas</th>\n",
              "      <td>2784626.53</td>\n",
              "    </tr>\n",
              "    <tr>\n",
              "      <th>Walrus White Zinfandel Wine</th>\n",
              "      <td>2678643.25</td>\n",
              "    </tr>\n",
              "  </tbody>\n",
              "</table>\n",
              "</div>"
            ],
            "text/plain": [
              "                                 Sales Amount\n",
              "Item                                         \n",
              "Ebony Squash                       5377848.64\n",
              "Big Time Frozen Cheese Pizza       5127171.17\n",
              "Discover Manicotti                 4901139.48\n",
              "Better Fancy Canned Sardines       4526698.89\n",
              "Moms Sliced Turkey                 3386948.16\n",
              "Imagine Popsicles                  3347066.54\n",
              "Cutting Edge Foot-Long Hot Dogs    3340837.52\n",
              "Ebony Prepared Salad               2793741.24\n",
              "Big Time Frozen Peas               2784626.53\n",
              "Walrus White Zinfandel Wine        2678643.25"
            ]
          },
          "metadata": {},
          "execution_count": 18
        }
      ]
    },
    {
      "cell_type": "markdown",
      "metadata": {
        "id": "xlSelQ9gvkq1"
      },
      "source": [
        "####Which are the Bottom 10 Products in sales?"
      ]
    },
    {
      "cell_type": "code",
      "metadata": {
        "colab": {
          "base_uri": "https://localhost:8080/",
          "height": 388
        },
        "id": "S70Z7f-BAO4v",
        "outputId": "86235927-f3f2-41b2-d128-10df742590b0"
      },
      "source": [
        "Item_sales_least = pd.DataFrame(ama_dataset.groupby('Item').sum()['Sales Amount'])\n",
        "Item_sales_least = Item_sales_least.sort_values('Sales Amount',ascending=True)\n",
        "\n",
        "#Bottom 10 Items By sales\n",
        "Item_sales_least[:10]"
      ],
      "execution_count": null,
      "outputs": [
        {
          "output_type": "execute_result",
          "data": {
            "text/html": [
              "<div>\n",
              "<style scoped>\n",
              "    .dataframe tbody tr th:only-of-type {\n",
              "        vertical-align: middle;\n",
              "    }\n",
              "\n",
              "    .dataframe tbody tr th {\n",
              "        vertical-align: top;\n",
              "    }\n",
              "\n",
              "    .dataframe thead th {\n",
              "        text-align: right;\n",
              "    }\n",
              "</style>\n",
              "<table border=\"1\" class=\"dataframe\">\n",
              "  <thead>\n",
              "    <tr style=\"text-align: right;\">\n",
              "      <th></th>\n",
              "      <th>Sales Amount</th>\n",
              "    </tr>\n",
              "    <tr>\n",
              "      <th>Item</th>\n",
              "      <th></th>\n",
              "    </tr>\n",
              "  </thead>\n",
              "  <tbody>\n",
              "    <tr>\n",
              "      <th>Nationeel BBQ Potato Chips</th>\n",
              "      <td>200.55</td>\n",
              "    </tr>\n",
              "    <tr>\n",
              "      <th>Ebony Mixed Nuts</th>\n",
              "      <td>201.16</td>\n",
              "    </tr>\n",
              "    <tr>\n",
              "      <th>Just Right Rice Soup</th>\n",
              "      <td>202.46</td>\n",
              "    </tr>\n",
              "    <tr>\n",
              "      <th>Kiwi Lox</th>\n",
              "      <td>204.71</td>\n",
              "    </tr>\n",
              "    <tr>\n",
              "      <th>Imagine Grape Popsicles</th>\n",
              "      <td>205.32</td>\n",
              "    </tr>\n",
              "    <tr>\n",
              "      <th>Best Choice Sesame Crackers</th>\n",
              "      <td>206.98</td>\n",
              "    </tr>\n",
              "    <tr>\n",
              "      <th>Best Choice Beef Jerky</th>\n",
              "      <td>406.40</td>\n",
              "    </tr>\n",
              "    <tr>\n",
              "      <th>Fast Graham Crackers</th>\n",
              "      <td>435.53</td>\n",
              "    </tr>\n",
              "    <tr>\n",
              "      <th>Moms Foot-Long Hot Dogs</th>\n",
              "      <td>441.63</td>\n",
              "    </tr>\n",
              "    <tr>\n",
              "      <th>Best Choice Dried Apricots</th>\n",
              "      <td>470.01</td>\n",
              "    </tr>\n",
              "  </tbody>\n",
              "</table>\n",
              "</div>"
            ],
            "text/plain": [
              "                             Sales Amount\n",
              "Item                                     \n",
              "Nationeel BBQ Potato Chips         200.55\n",
              "Ebony Mixed Nuts                   201.16\n",
              "Just Right Rice Soup               202.46\n",
              "Kiwi Lox                           204.71\n",
              "Imagine Grape Popsicles            205.32\n",
              "Best Choice Sesame Crackers        206.98\n",
              "Best Choice Beef Jerky             406.40\n",
              "Fast Graham Crackers               435.53\n",
              "Moms Foot-Long Hot Dogs            441.63\n",
              "Best Choice Dried Apricots         470.01"
            ]
          },
          "metadata": {},
          "execution_count": 19
        }
      ]
    },
    {
      "cell_type": "markdown",
      "metadata": {
        "id": "xYkBUIf9ZLnR"
      },
      "source": [
        "####Which are the 10 most selling items?"
      ]
    },
    {
      "cell_type": "code",
      "metadata": {
        "id": "k6g_8LcdPzos",
        "colab": {
          "base_uri": "https://localhost:8080/",
          "height": 388
        },
        "outputId": "8e11d7d6-2fe4-42fd-b96f-1a82ac04081b"
      },
      "source": [
        "#Grouping Item Column\n",
        "most_selling_items = pd.DataFrame(ama_dataset.groupby('Item').sum()['Sales Quantity'])\n",
        "#Sorting Item_sales Column\n",
        "most_selling_items = most_selling_items.sort_values('Sales Quantity',ascending=False)\n",
        "\n",
        "#Top 10 Items By sales\n",
        "most_selling_items[:10]"
      ],
      "execution_count": null,
      "outputs": [
        {
          "output_type": "execute_result",
          "data": {
            "text/html": [
              "<div>\n",
              "<style scoped>\n",
              "    .dataframe tbody tr th:only-of-type {\n",
              "        vertical-align: middle;\n",
              "    }\n",
              "\n",
              "    .dataframe tbody tr th {\n",
              "        vertical-align: top;\n",
              "    }\n",
              "\n",
              "    .dataframe thead th {\n",
              "        text-align: right;\n",
              "    }\n",
              "</style>\n",
              "<table border=\"1\" class=\"dataframe\">\n",
              "  <thead>\n",
              "    <tr style=\"text-align: right;\">\n",
              "      <th></th>\n",
              "      <th>Sales Quantity</th>\n",
              "    </tr>\n",
              "    <tr>\n",
              "      <th>Item</th>\n",
              "      <th></th>\n",
              "    </tr>\n",
              "  </thead>\n",
              "  <tbody>\n",
              "    <tr>\n",
              "      <th>Moms Sliced Ham</th>\n",
              "      <td>27790</td>\n",
              "    </tr>\n",
              "    <tr>\n",
              "      <th>Big Time Frozen Cheese Pizza</th>\n",
              "      <td>27420</td>\n",
              "    </tr>\n",
              "    <tr>\n",
              "      <th>Walrus White Zinfandel Wine</th>\n",
              "      <td>22873</td>\n",
              "    </tr>\n",
              "    <tr>\n",
              "      <th>High Top Cauliflower</th>\n",
              "      <td>21751</td>\n",
              "    </tr>\n",
              "    <tr>\n",
              "      <th>Golden Frozen Corn</th>\n",
              "      <td>19623</td>\n",
              "    </tr>\n",
              "    <tr>\n",
              "      <th>Nationeel Potato Chips</th>\n",
              "      <td>15222</td>\n",
              "    </tr>\n",
              "    <tr>\n",
              "      <th>Even Better String Cheese</th>\n",
              "      <td>14159</td>\n",
              "    </tr>\n",
              "    <tr>\n",
              "      <th>Cutting Edge Foot-Long Hot Dogs</th>\n",
              "      <td>12902</td>\n",
              "    </tr>\n",
              "    <tr>\n",
              "      <th>Nationeel Salted Pretzels</th>\n",
              "      <td>12210</td>\n",
              "    </tr>\n",
              "    <tr>\n",
              "      <th>High Top Dried Mushrooms</th>\n",
              "      <td>12109</td>\n",
              "    </tr>\n",
              "  </tbody>\n",
              "</table>\n",
              "</div>"
            ],
            "text/plain": [
              "                                 Sales Quantity\n",
              "Item                                           \n",
              "Moms Sliced Ham                           27790\n",
              "Big Time Frozen Cheese Pizza              27420\n",
              "Walrus White Zinfandel Wine               22873\n",
              "High Top Cauliflower                      21751\n",
              "Golden Frozen Corn                        19623\n",
              "Nationeel Potato Chips                    15222\n",
              "Even Better String Cheese                 14159\n",
              "Cutting Edge Foot-Long Hot Dogs           12902\n",
              "Nationeel Salted Pretzels                 12210\n",
              "High Top Dried Mushrooms                  12109"
            ]
          },
          "metadata": {},
          "execution_count": 20
        }
      ]
    },
    {
      "cell_type": "markdown",
      "metadata": {
        "id": "wzfNKF75vszF"
      },
      "source": [
        "####Which are the Bottom 10 Products in amount sold?"
      ]
    },
    {
      "cell_type": "code",
      "metadata": {
        "colab": {
          "base_uri": "https://localhost:8080/",
          "height": 388
        },
        "id": "ALpJwfnxvLbR",
        "outputId": "23ef83ad-4fa0-4715-9ded-fa3dd90ef449"
      },
      "source": [
        "Item_sales_qty_least = pd.DataFrame(ama_dataset.groupby('Item').sum()['Sales Quantity'])\n",
        "Item_sales_qty_least = Item_sales_qty_least.sort_values('Sales Quantity',ascending=True)\n",
        "\n",
        "#Bottom 10 Items By amount sold \n",
        "Item_sales_qty_least[:10]"
      ],
      "execution_count": null,
      "outputs": [
        {
          "output_type": "execute_result",
          "data": {
            "text/html": [
              "<div>\n",
              "<style scoped>\n",
              "    .dataframe tbody tr th:only-of-type {\n",
              "        vertical-align: middle;\n",
              "    }\n",
              "\n",
              "    .dataframe tbody tr th {\n",
              "        vertical-align: top;\n",
              "    }\n",
              "\n",
              "    .dataframe thead th {\n",
              "        text-align: right;\n",
              "    }\n",
              "</style>\n",
              "<table border=\"1\" class=\"dataframe\">\n",
              "  <thead>\n",
              "    <tr style=\"text-align: right;\">\n",
              "      <th></th>\n",
              "      <th>Sales Quantity</th>\n",
              "    </tr>\n",
              "    <tr>\n",
              "      <th>Item</th>\n",
              "      <th></th>\n",
              "    </tr>\n",
              "  </thead>\n",
              "  <tbody>\n",
              "    <tr>\n",
              "      <th>Kiwi Lox</th>\n",
              "      <td>1</td>\n",
              "    </tr>\n",
              "    <tr>\n",
              "      <th>Best Corn Puffs</th>\n",
              "      <td>2</td>\n",
              "    </tr>\n",
              "    <tr>\n",
              "      <th>Carlson Chocolate Milk</th>\n",
              "      <td>2</td>\n",
              "    </tr>\n",
              "    <tr>\n",
              "      <th>Tell Tale Tangerines</th>\n",
              "      <td>3</td>\n",
              "    </tr>\n",
              "    <tr>\n",
              "      <th>Imagine Grape Popsicles</th>\n",
              "      <td>3</td>\n",
              "    </tr>\n",
              "    <tr>\n",
              "      <th>Blue Label Fancy Canned Clams</th>\n",
              "      <td>3</td>\n",
              "    </tr>\n",
              "    <tr>\n",
              "      <th>Atomic Mints</th>\n",
              "      <td>3</td>\n",
              "    </tr>\n",
              "    <tr>\n",
              "      <th>Best Choice Sesame Crackers</th>\n",
              "      <td>4</td>\n",
              "    </tr>\n",
              "    <tr>\n",
              "      <th>Colony Muffins</th>\n",
              "      <td>4</td>\n",
              "    </tr>\n",
              "    <tr>\n",
              "      <th>Moms Foot-Long Hot Dogs</th>\n",
              "      <td>4</td>\n",
              "    </tr>\n",
              "  </tbody>\n",
              "</table>\n",
              "</div>"
            ],
            "text/plain": [
              "                               Sales Quantity\n",
              "Item                                         \n",
              "Kiwi Lox                                    1\n",
              "Best Corn Puffs                             2\n",
              "Carlson Chocolate Milk                      2\n",
              "Tell Tale Tangerines                        3\n",
              "Imagine Grape Popsicles                     3\n",
              "Blue Label Fancy Canned Clams               3\n",
              "Atomic Mints                                3\n",
              "Best Choice Sesame Crackers                 4\n",
              "Colony Muffins                              4\n",
              "Moms Foot-Long Hot Dogs                     4"
            ]
          },
          "metadata": {},
          "execution_count": 21
        }
      ]
    },
    {
      "cell_type": "markdown",
      "metadata": {
        "id": "eyR_XW8Awfhk"
      },
      "source": [
        "###2.Observations:- \n",
        "\n",
        "*   Top 10 selling products by sales amount by Descending: \n",
        "\n",
        "1.   Ebony Squash\n",
        "2.   Big Time Frozen Cheese Pizza\n",
        "1.   Discover Manicotti\n",
        "2.   Better Fancy Canned Sardines,\n",
        "1.   Moms Sliced Turkey\n",
        "2.   Imagine Popsicles\n",
        "1.   Cutting Edge Foot-Long Hot Dogs\n",
        "2.   Ebony Prepared Salad\n",
        "1.   Big Time Frozen Peas\n",
        "2.   Walrus White Zinfandel Wine.\n",
        "\n",
        "\n",
        "*   Top 10 selling products by sales quantity by Descending: \n",
        "1.   Moms Sliced Ham\n",
        "2.   Big Time Frozen Cheese Pizza\n",
        "1.   Walrus White Zinfandel Wine\n",
        "2.   High Top Cauliflower,\n",
        "1.   Golden Frozen Corn\n",
        "2.   Nationeel Potato Chips\n",
        "7.   Even Better String Cheese\n",
        "8.   Cutting Edge Foot-Long Hot Dogs\n",
        "9.   Nationeel Salted Pretzels\n",
        "10.  High Top Dried Mushrooms\n",
        "\n",
        "*   Bottom 10 selling products by sales amount by Ascending order: \n",
        "1.  Nationeel BBQ Potato Chips\t\n",
        "2.Ebony Mixed Nuts\t\n",
        "3.Just Right Rice Soup\t\n",
        "4.Kiwi Lox\t\n",
        "5.Imagine Grape Popsicles\t\n",
        "6.Best Choice Sesame Crackers\t\n",
        "7.Best Choice Beef Jerky\t\n",
        "8.Fast Graham Crackers\t\n",
        "9.Moms Foot-Long Hot Dogs\t\n",
        "10.Best Choice Dried Apricots\t\n",
        "\n",
        "*   Bottom 10 selling products by sales Qty by Ascending order: \n",
        "1.  Kiwi Lox\t\n",
        "2.Best Corn Puffs\t\n",
        "3.Carlson Chocolate Milk\t\n",
        "4.Tell Tale Tangerines\t\n",
        "5.Imagine Grape Popsicles\t\n",
        "6.Blue Label Fancy Canned Clams\t\n",
        "7.Atomic Mints\t\n",
        "8.Best Choice Sesame Crackers\t\n",
        "9.Colony Muffins\t\n",
        "10.Moms Foot-Long Hot Dogs\t\t\n"
      ]
    },
    {
      "cell_type": "markdown",
      "metadata": {
        "id": "jWFrAltZ4_57"
      },
      "source": [
        "####Analysing More Trends"
      ]
    },
    {
      "cell_type": "code",
      "metadata": {
        "colab": {
          "base_uri": "https://localhost:8080/",
          "height": 313
        },
        "id": "azmgHlxHaY4u",
        "outputId": "4b24b31d-61fd-4ab9-c32c-16b073ae60ba"
      },
      "source": [
        "ama_df_trend_salesrep = ama_dataset.groupby('Sales Rep').sum()['Sales Amount'].reset_index()\n",
        "plt.figure(figsize=(25,6))\n",
        "plt.title('Sales/Sales Representatives')\n",
        "plt.bar(ama_df_trend_salesrep['Sales Rep'], ama_df_trend_salesrep['Sales Amount'])\n",
        "plt.xticks(rotation= 'vertical',size=8)\n",
        "plt.show()"
      ],
      "execution_count": null,
      "outputs": [
        {
          "output_type": "display_data",
          "data": {
            "image/png": "[encoded data removed]",
            "text/plain": [
              "<Figure size 1800x432 with 1 Axes>"
            ]
          },
          "metadata": {
            "needs_background": "light"
          }
        }
      ]
    },
    {
      "cell_type": "code",
      "metadata": {
        "colab": {
          "base_uri": "https://localhost:8080/",
          "height": 308
        },
        "id": "gWHddi5wc_ze",
        "outputId": "57bf6391-3a13-4da6-db67-c67ef50c27e0"
      },
      "source": [
        "ama_df_trend_salesrepqt = ama_dataset.groupby('Sales Rep').sum()['Sales Quantity'].reset_index()\n",
        "plt.figure(figsize=(25,6))\n",
        "plt.title('Sale_Qty/Sales Rep')\n",
        "plt.bar(ama_df_trend_salesrepqt['Sales Rep'], ama_df_trend_salesrepqt['Sales Quantity'])\n",
        "plt.xticks(rotation= 'vertical',size=8)\n",
        "plt.show()"
      ],
      "execution_count": null,
      "outputs": [
        {
          "output_type": "display_data",
          "data": {
            "image/png": "[encoded data removed]",
            "text/plain": [
              "<Figure size 1800x432 with 1 Axes>"
            ]
          },
          "metadata": {
            "needs_background": "light"
          }
        }
      ]
    },
    {
      "cell_type": "code",
      "metadata": {
        "id": "jxkg_fvvd-Yt",
        "colab": {
          "base_uri": "https://localhost:8080/",
          "height": 322
        },
        "outputId": "784f44a6-d521-45bc-a09e-9f3d30c88528"
      },
      "source": [
        "ama_df_trend_disc = ama_dataset.groupby('Discount Amount').sum()['Sales Amount'].reset_index()\n",
        "x = np.linspace(min(ama_df_trend_disc['Discount Amount']),max(ama_df_trend_disc['Discount Amount']), 1000)\n",
        "plt.figure(figsize=(25,6))\n",
        "plt.plot(x, x + 3, linestyle='--',color=\"red\",linewidth=3)  # solid\n",
        "plt.title('Sales/Discount')\n",
        "plt.scatter(ama_df_trend_disc['Discount Amount'], ama_df_trend_disc['Sales Amount'])\n",
        "plt.xticks(rotation= 'vertical',size=8)\n",
        "plt.show()"
      ],
      "execution_count": null,
      "outputs": [
        {
          "output_type": "display_data",
          "data": {
            "image/png": "[encoded data removed]",
            "text/plain": [
              "<Figure size 1800x432 with 1 Axes>"
            ]
          },
          "metadata": {
            "needs_background": "light"
          }
        }
      ]
    },
    {
      "cell_type": "code",
      "metadata": {
        "colab": {
          "base_uri": "https://localhost:8080/",
          "height": 281
        },
        "id": "e9eUAUEs3IPT",
        "outputId": "29846103-626f-4dd0-afe9-020b54197f86"
      },
      "source": [
        "plt.title('Sales Amount/\"U/M\"')\n",
        "plt.bar(ama_dataset['U/M'],ama_dataset['Sales Amount'])\n",
        "plt.show()"
      ],
      "execution_count": null,
      "outputs": [
        {
          "output_type": "display_data",
          "data": {
            "image/png": "[encoded data removed]",
            "text/plain": [
              "<Figure size 432x288 with 1 Axes>"
            ]
          },
          "metadata": {
            "needs_background": "light"
          }
        }
      ]
    },
    {
      "cell_type": "code",
      "metadata": {
        "colab": {
          "base_uri": "https://localhost:8080/"
        },
        "id": "Fs0G3S49CSrF",
        "outputId": "d879d6a9-4980-4369-a83b-ef6de3eb398f"
      },
      "source": [
        "ama_dataset['U/M'].value_counts()"
      ],
      "execution_count": null,
      "outputs": [
        {
          "output_type": "execute_result",
          "data": {
            "text/plain": [
              "EA    50973\n",
              "SE     5375\n",
              "PR      645\n",
              "Name: U/M, dtype: int64"
            ]
          },
          "metadata": {},
          "execution_count": 26
        }
      ]
    },
    {
      "cell_type": "code",
      "metadata": {
        "colab": {
          "base_uri": "https://localhost:8080/",
          "height": 281
        },
        "id": "KymPnmpXCgOl",
        "outputId": "498100e9-b32a-4005-febb-ed9fef15919d"
      },
      "source": [
        "plt.title('Sales Margin Amount/\"U/M\"')\n",
        "plt.bar(ama_dataset['U/M'],ama_dataset['Sales Margin Amount'])\n",
        "plt.show()"
      ],
      "execution_count": null,
      "outputs": [
        {
          "output_type": "display_data",
          "data": {
            "image/png": "[encoded data removed]",
            "text/plain": [
              "<Figure size 432x288 with 1 Axes>"
            ]
          },
          "metadata": {
            "needs_background": "light"
          }
        }
      ]
    },
    {
      "cell_type": "markdown",
      "metadata": {
        "id": "uVX8gz8Oyort"
      },
      "source": [
        "###3.Observations:-from the above plots\n",
        "*   Sales/Sales Representatives do not have a significant relationship.\n",
        "*   Sale Quantity/Sales Representatives do not have significant relationship.\n",
        "*   Discount & sales are directly proportional to each other.\n",
        "*  the sale in u/m of EA is significantly higher due to more quantity of product sold separately i.e why there is no significant relationship.(U/M: Unit of Measure(Each = EA, pair = PR, SE = Some SI Unit of KG/Gallon))\n",
        "*   Profit on a products sold pair wise is greater in comparison for its quantity.\n",
        "\n",
        "\n",
        "\n"
      ]
    },
    {
      "cell_type": "markdown",
      "metadata": {
        "id": "ge7ZboYA1zjb"
      },
      "source": [
        "##Summary:\n",
        "*   From Sales Trend analysis we note that the overall sales.\n",
        "have been decreasing slightly and stagnant.(Sales were observed especially low in the year 2018 & months july and august.)\n",
        "*   The Most High Selling & Profitable products are:\n",
        "> *   Big Time Frozen Cheese Pizza\n",
        "  *   Cutting Edge Foot-Long Hot Dogs\n",
        "  *   Walrus White Zinfandel Wine.\n",
        "*   The Least Selling & Least Profitable products are:\n",
        "> * Kiwi Lox\n",
        "  * Imagine Grape Popsicles\n",
        "  * Best Choice Sesame Crackers\n",
        "  * Moms Foot-Long Hot Dogs\t  \n",
        "*It is recommended to Purchase more of the products in the (The Most High Selling & Profitable products) and promote their sales as well as The Top 10 Sales generating products & Top 10 most sold products which have been mentioned in the observations.\n",
        "*It is recommended to revaluate the quantity of products purchased (The Least Selling & Least Profitable products) which are generating the lowest sales as well as the Bottom 10 Sales generating products which can be found in the observations.\n",
        "*Increasing the quantity of Sales Representatives are not increasing profits so it is recommended to revaluate their selection or decrease the investment required to hire them.\n",
        "*Since Sales Increase on increasing the discount we recommend pushing the products which are sold the least with a high amount of discount.\n",
        "*It is recommended To increase the quantity of SE products as its observed that they are generating highest margin with respect to their quantity.  \n",
        "\n",
        "\n",
        "\n",
        "\n"
      ]
    },
    {
      "cell_type": "code",
      "metadata": {
        "id": "d8tfVsx-Mw7c"
      },
      "source": [
        ""
      ],
      "execution_count": null,
      "outputs": []
    }
  ]
}